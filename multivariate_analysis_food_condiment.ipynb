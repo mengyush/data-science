{
 "cells": [
  {
   "cell_type": "markdown",
   "id": "6d0b8ecf",
   "metadata": {},
   "source": [
    "# Analysis of a multivariate experiment using multiple linear regression\n",
    "\n",
    "## Running a multivariate experiment on the enjoyment of food as a function of food and topping. Food : ice cream and hotdog, and topping : between mustard and chocolate sauce\n",
    "\n",
    "#### dataset borrowed from https://statisticsbyjim.com/regression/interaction-effects/\n",
    "\n"
   ]
  },
  {
   "cell_type": "code",
   "execution_count": 32,
   "id": "aa9290ce",
   "metadata": {},
   "outputs": [],
   "source": [
    "# import the modules\n",
    "import pandas as pd\n",
    "import matplotlib.pyplot as plt\n",
    "import seaborn as sns\n",
    "import statsmodels.formula.api as smf\n",
    "from statsmodels.tools.eval_measures import rmse\n",
    "import numpy as np"
   ]
  },
  {
   "cell_type": "code",
   "execution_count": 2,
   "id": "c571c41a",
   "metadata": {},
   "outputs": [],
   "source": [
    "df = pd.read_csv('Interactions_Categorical.csv')"
   ]
  },
  {
   "cell_type": "code",
   "execution_count": 3,
   "id": "012f27d5",
   "metadata": {},
   "outputs": [
    {
     "data": {
      "text/html": [
       "<div>\n",
       "<style scoped>\n",
       "    .dataframe tbody tr th:only-of-type {\n",
       "        vertical-align: middle;\n",
       "    }\n",
       "\n",
       "    .dataframe tbody tr th {\n",
       "        vertical-align: top;\n",
       "    }\n",
       "\n",
       "    .dataframe thead th {\n",
       "        text-align: right;\n",
       "    }\n",
       "</style>\n",
       "<table border=\"1\" class=\"dataframe\">\n",
       "  <thead>\n",
       "    <tr style=\"text-align: right;\">\n",
       "      <th></th>\n",
       "      <th>Enjoyment</th>\n",
       "      <th>Food</th>\n",
       "      <th>Condiment</th>\n",
       "    </tr>\n",
       "  </thead>\n",
       "  <tbody>\n",
       "    <tr>\n",
       "      <th>0</th>\n",
       "      <td>81.926957</td>\n",
       "      <td>Hot Dog</td>\n",
       "      <td>Mustard</td>\n",
       "    </tr>\n",
       "    <tr>\n",
       "      <th>1</th>\n",
       "      <td>84.939774</td>\n",
       "      <td>Hot Dog</td>\n",
       "      <td>Mustard</td>\n",
       "    </tr>\n",
       "    <tr>\n",
       "      <th>2</th>\n",
       "      <td>90.286479</td>\n",
       "      <td>Hot Dog</td>\n",
       "      <td>Mustard</td>\n",
       "    </tr>\n",
       "    <tr>\n",
       "      <th>3</th>\n",
       "      <td>89.561802</td>\n",
       "      <td>Hot Dog</td>\n",
       "      <td>Mustard</td>\n",
       "    </tr>\n",
       "    <tr>\n",
       "      <th>4</th>\n",
       "      <td>97.676826</td>\n",
       "      <td>Hot Dog</td>\n",
       "      <td>Mustard</td>\n",
       "    </tr>\n",
       "  </tbody>\n",
       "</table>\n",
       "</div>"
      ],
      "text/plain": [
       "   Enjoyment     Food Condiment\n",
       "0  81.926957  Hot Dog   Mustard\n",
       "1  84.939774  Hot Dog   Mustard\n",
       "2  90.286479  Hot Dog   Mustard\n",
       "3  89.561802  Hot Dog   Mustard\n",
       "4  97.676826  Hot Dog   Mustard"
      ]
     },
     "execution_count": 3,
     "metadata": {},
     "output_type": "execute_result"
    }
   ],
   "source": [
    "df.head()"
   ]
  },
  {
   "cell_type": "code",
   "execution_count": 6,
   "id": "a2d2c89d",
   "metadata": {},
   "outputs": [
    {
     "name": "stdout",
     "output_type": "stream",
     "text": [
      "<class 'pandas.core.frame.DataFrame'>\n",
      "RangeIndex: 80 entries, 0 to 79\n",
      "Data columns (total 3 columns):\n",
      " #   Column     Non-Null Count  Dtype  \n",
      "---  ------     --------------  -----  \n",
      " 0   Enjoyment  80 non-null     float64\n",
      " 1   Food       80 non-null     object \n",
      " 2   Condiment  80 non-null     object \n",
      "dtypes: float64(1), object(2)\n",
      "memory usage: 2.0+ KB\n"
     ]
    }
   ],
   "source": [
    "df.info()"
   ]
  },
  {
   "cell_type": "code",
   "execution_count": 11,
   "id": "93ea2948",
   "metadata": {},
   "outputs": [
    {
     "data": {
      "text/plain": [
       "(80, 3)"
      ]
     },
     "execution_count": 11,
     "metadata": {},
     "output_type": "execute_result"
    }
   ],
   "source": [
    "df.shape"
   ]
  },
  {
   "cell_type": "code",
   "execution_count": 4,
   "id": "fa829af2",
   "metadata": {},
   "outputs": [
    {
     "data": {
      "text/plain": [
       "Hot Dog      40\n",
       "Ice Cream    40\n",
       "Name: Food, dtype: int64"
      ]
     },
     "execution_count": 4,
     "metadata": {},
     "output_type": "execute_result"
    }
   ],
   "source": [
    "df.Food.value_counts()"
   ]
  },
  {
   "cell_type": "code",
   "execution_count": 5,
   "id": "2664c4d4",
   "metadata": {},
   "outputs": [
    {
     "data": {
      "text/plain": [
       "Mustard            40\n",
       "Chocolate Sauce    40\n",
       "Name: Condiment, dtype: int64"
      ]
     },
     "execution_count": 5,
     "metadata": {},
     "output_type": "execute_result"
    }
   ],
   "source": [
    "df.Condiment.value_counts()"
   ]
  },
  {
   "cell_type": "code",
   "execution_count": 80,
   "id": "9687c95a",
   "metadata": {
    "scrolled": true
   },
   "outputs": [],
   "source": [
    "new_df = df.copy()"
   ]
  },
  {
   "cell_type": "code",
   "execution_count": 68,
   "id": "72d1703d",
   "metadata": {},
   "outputs": [
    {
     "data": {
      "text/html": [
       "<div>\n",
       "<style scoped>\n",
       "    .dataframe tbody tr th:only-of-type {\n",
       "        vertical-align: middle;\n",
       "    }\n",
       "\n",
       "    .dataframe tbody tr th {\n",
       "        vertical-align: top;\n",
       "    }\n",
       "\n",
       "    .dataframe thead th {\n",
       "        text-align: right;\n",
       "    }\n",
       "</style>\n",
       "<table border=\"1\" class=\"dataframe\">\n",
       "  <thead>\n",
       "    <tr style=\"text-align: right;\">\n",
       "      <th></th>\n",
       "      <th>Enjoyment</th>\n",
       "      <th>Food</th>\n",
       "      <th>Condiment</th>\n",
       "    </tr>\n",
       "  </thead>\n",
       "  <tbody>\n",
       "    <tr>\n",
       "      <th>0</th>\n",
       "      <td>81.926957</td>\n",
       "      <td>HotDog</td>\n",
       "      <td>Mustard</td>\n",
       "    </tr>\n",
       "    <tr>\n",
       "      <th>1</th>\n",
       "      <td>84.939774</td>\n",
       "      <td>HotDog</td>\n",
       "      <td>Mustard</td>\n",
       "    </tr>\n",
       "    <tr>\n",
       "      <th>2</th>\n",
       "      <td>90.286479</td>\n",
       "      <td>HotDog</td>\n",
       "      <td>Mustard</td>\n",
       "    </tr>\n",
       "    <tr>\n",
       "      <th>3</th>\n",
       "      <td>89.561802</td>\n",
       "      <td>HotDog</td>\n",
       "      <td>Mustard</td>\n",
       "    </tr>\n",
       "    <tr>\n",
       "      <th>4</th>\n",
       "      <td>97.676826</td>\n",
       "      <td>HotDog</td>\n",
       "      <td>Mustard</td>\n",
       "    </tr>\n",
       "  </tbody>\n",
       "</table>\n",
       "</div>"
      ],
      "text/plain": [
       "   Enjoyment    Food Condiment\n",
       "0  81.926957  HotDog   Mustard\n",
       "1  84.939774  HotDog   Mustard\n",
       "2  90.286479  HotDog   Mustard\n",
       "3  89.561802  HotDog   Mustard\n",
       "4  97.676826  HotDog   Mustard"
      ]
     },
     "execution_count": 68,
     "metadata": {},
     "output_type": "execute_result"
    }
   ],
   "source": [
    "new_df.Food = new_df.Food.str.split(' ').map(''.join)\n",
    "new_df.Condiment = new_df.Condiment.str.split(' ').map(''.join)\n",
    "new_df.head()"
   ]
  },
  {
   "cell_type": "code",
   "execution_count": 69,
   "id": "47f57b28",
   "metadata": {},
   "outputs": [
    {
     "data": {
      "text/html": [
       "<div>\n",
       "<style scoped>\n",
       "    .dataframe tbody tr th:only-of-type {\n",
       "        vertical-align: middle;\n",
       "    }\n",
       "\n",
       "    .dataframe tbody tr th {\n",
       "        vertical-align: top;\n",
       "    }\n",
       "\n",
       "    .dataframe thead th {\n",
       "        text-align: right;\n",
       "    }\n",
       "</style>\n",
       "<table border=\"1\" class=\"dataframe\">\n",
       "  <thead>\n",
       "    <tr style=\"text-align: right;\">\n",
       "      <th></th>\n",
       "      <th>Enjoyment</th>\n",
       "      <th>Food_HotDog</th>\n",
       "      <th>Food_IceCream</th>\n",
       "      <th>Condiment_ChocolateSauce</th>\n",
       "      <th>Condiment_Mustard</th>\n",
       "    </tr>\n",
       "  </thead>\n",
       "  <tbody>\n",
       "    <tr>\n",
       "      <th>0</th>\n",
       "      <td>81.926957</td>\n",
       "      <td>1</td>\n",
       "      <td>0</td>\n",
       "      <td>0</td>\n",
       "      <td>1</td>\n",
       "    </tr>\n",
       "    <tr>\n",
       "      <th>1</th>\n",
       "      <td>84.939774</td>\n",
       "      <td>1</td>\n",
       "      <td>0</td>\n",
       "      <td>0</td>\n",
       "      <td>1</td>\n",
       "    </tr>\n",
       "    <tr>\n",
       "      <th>2</th>\n",
       "      <td>90.286479</td>\n",
       "      <td>1</td>\n",
       "      <td>0</td>\n",
       "      <td>0</td>\n",
       "      <td>1</td>\n",
       "    </tr>\n",
       "    <tr>\n",
       "      <th>3</th>\n",
       "      <td>89.561802</td>\n",
       "      <td>1</td>\n",
       "      <td>0</td>\n",
       "      <td>0</td>\n",
       "      <td>1</td>\n",
       "    </tr>\n",
       "    <tr>\n",
       "      <th>4</th>\n",
       "      <td>97.676826</td>\n",
       "      <td>1</td>\n",
       "      <td>0</td>\n",
       "      <td>0</td>\n",
       "      <td>1</td>\n",
       "    </tr>\n",
       "  </tbody>\n",
       "</table>\n",
       "</div>"
      ],
      "text/plain": [
       "   Enjoyment  Food_HotDog  Food_IceCream  Condiment_ChocolateSauce  \\\n",
       "0  81.926957            1              0                         0   \n",
       "1  84.939774            1              0                         0   \n",
       "2  90.286479            1              0                         0   \n",
       "3  89.561802            1              0                         0   \n",
       "4  97.676826            1              0                         0   \n",
       "\n",
       "   Condiment_Mustard  \n",
       "0                  1  \n",
       "1                  1  \n",
       "2                  1  \n",
       "3                  1  \n",
       "4                  1  "
      ]
     },
     "execution_count": 69,
     "metadata": {},
     "output_type": "execute_result"
    }
   ],
   "source": [
    "new_df = pd.get_dummies(new_df,columns = ['Food','Condiment'])\n",
    "new_df.head()"
   ]
  },
  {
   "cell_type": "code",
   "execution_count": 78,
   "id": "2298f3ca",
   "metadata": {},
   "outputs": [
    {
     "data": {
      "text/html": [
       "<div>\n",
       "<style scoped>\n",
       "    .dataframe tbody tr th:only-of-type {\n",
       "        vertical-align: middle;\n",
       "    }\n",
       "\n",
       "    .dataframe tbody tr th {\n",
       "        vertical-align: top;\n",
       "    }\n",
       "\n",
       "    .dataframe thead th {\n",
       "        text-align: right;\n",
       "    }\n",
       "</style>\n",
       "<table border=\"1\" class=\"dataframe\">\n",
       "  <thead>\n",
       "    <tr style=\"text-align: right;\">\n",
       "      <th></th>\n",
       "      <th>Enjoyment</th>\n",
       "      <th>Food_HotDog</th>\n",
       "      <th>Food_IceCream</th>\n",
       "      <th>Condiment_ChocolateSauce</th>\n",
       "      <th>Condiment_Mustard</th>\n",
       "    </tr>\n",
       "  </thead>\n",
       "  <tbody>\n",
       "    <tr>\n",
       "      <th>Enjoyment</th>\n",
       "      <td>1.000000</td>\n",
       "      <td>9.453047e-03</td>\n",
       "      <td>-9.453047e-03</td>\n",
       "      <td>1.245843e-01</td>\n",
       "      <td>-1.245843e-01</td>\n",
       "    </tr>\n",
       "    <tr>\n",
       "      <th>Food_HotDog</th>\n",
       "      <td>0.009453</td>\n",
       "      <td>1.000000e+00</td>\n",
       "      <td>-1.000000e+00</td>\n",
       "      <td>-3.552714e-16</td>\n",
       "      <td>2.803313e-16</td>\n",
       "    </tr>\n",
       "    <tr>\n",
       "      <th>Food_IceCream</th>\n",
       "      <td>-0.009453</td>\n",
       "      <td>-1.000000e+00</td>\n",
       "      <td>1.000000e+00</td>\n",
       "      <td>3.219647e-16</td>\n",
       "      <td>-3.247402e-16</td>\n",
       "    </tr>\n",
       "    <tr>\n",
       "      <th>Condiment_ChocolateSauce</th>\n",
       "      <td>0.124584</td>\n",
       "      <td>-3.552714e-16</td>\n",
       "      <td>3.219647e-16</td>\n",
       "      <td>1.000000e+00</td>\n",
       "      <td>-1.000000e+00</td>\n",
       "    </tr>\n",
       "    <tr>\n",
       "      <th>Condiment_Mustard</th>\n",
       "      <td>-0.124584</td>\n",
       "      <td>2.803313e-16</td>\n",
       "      <td>-3.247402e-16</td>\n",
       "      <td>-1.000000e+00</td>\n",
       "      <td>1.000000e+00</td>\n",
       "    </tr>\n",
       "  </tbody>\n",
       "</table>\n",
       "</div>"
      ],
      "text/plain": [
       "                          Enjoyment   Food_HotDog  Food_IceCream  \\\n",
       "Enjoyment                  1.000000  9.453047e-03  -9.453047e-03   \n",
       "Food_HotDog                0.009453  1.000000e+00  -1.000000e+00   \n",
       "Food_IceCream             -0.009453 -1.000000e+00   1.000000e+00   \n",
       "Condiment_ChocolateSauce   0.124584 -3.552714e-16   3.219647e-16   \n",
       "Condiment_Mustard         -0.124584  2.803313e-16  -3.247402e-16   \n",
       "\n",
       "                          Condiment_ChocolateSauce  Condiment_Mustard  \n",
       "Enjoyment                             1.245843e-01      -1.245843e-01  \n",
       "Food_HotDog                          -3.552714e-16       2.803313e-16  \n",
       "Food_IceCream                         3.219647e-16      -3.247402e-16  \n",
       "Condiment_ChocolateSauce              1.000000e+00      -1.000000e+00  \n",
       "Condiment_Mustard                    -1.000000e+00       1.000000e+00  "
      ]
     },
     "execution_count": 78,
     "metadata": {},
     "output_type": "execute_result"
    }
   ],
   "source": [
    "new_df.corr()"
   ]
  },
  {
   "cell_type": "code",
   "execution_count": 72,
   "id": "48b2fa1e",
   "metadata": {},
   "outputs": [],
   "source": [
    "formula = 'Enjoyment ~ Food_HotDog*Condiment_ChocolateSauce + Food_IceCream*Condiment_ChocolateSauce + Food_HotDog*Condiment_Mustard + Food_IceCream*Condiment_Mustard'\n",
    "\n",
    "model = smf.ols(formula, data = new_df).fit()"
   ]
  },
  {
   "cell_type": "code",
   "execution_count": 73,
   "id": "c28def96",
   "metadata": {},
   "outputs": [
    {
     "data": {
      "text/html": [
       "<table class=\"simpletable\">\n",
       "<caption>OLS Regression Results</caption>\n",
       "<tr>\n",
       "  <th>Dep. Variable:</th>        <td>Enjoyment</td>    <th>  R-squared:         </th> <td>   0.893</td>\n",
       "</tr>\n",
       "<tr>\n",
       "  <th>Model:</th>                   <td>OLS</td>       <th>  Adj. R-squared:    </th> <td>   0.889</td>\n",
       "</tr>\n",
       "<tr>\n",
       "  <th>Method:</th>             <td>Least Squares</td>  <th>  F-statistic:       </th> <td>   212.4</td>\n",
       "</tr>\n",
       "<tr>\n",
       "  <th>Date:</th>             <td>Sun, 22 May 2022</td> <th>  Prob (F-statistic):</th> <td>7.41e-37</td>\n",
       "</tr>\n",
       "<tr>\n",
       "  <th>Time:</th>                 <td>11:48:08</td>     <th>  Log-Likelihood:    </th> <td> -240.33</td>\n",
       "</tr>\n",
       "<tr>\n",
       "  <th>No. Observations:</th>      <td>    80</td>      <th>  AIC:               </th> <td>   488.7</td>\n",
       "</tr>\n",
       "<tr>\n",
       "  <th>Df Residuals:</th>          <td>    76</td>      <th>  BIC:               </th> <td>   498.2</td>\n",
       "</tr>\n",
       "<tr>\n",
       "  <th>Df Model:</th>              <td>     3</td>      <th>                     </th>     <td> </td>   \n",
       "</tr>\n",
       "<tr>\n",
       "  <th>Covariance Type:</th>      <td>nonrobust</td>    <th>                     </th>     <td> </td>   \n",
       "</tr>\n",
       "</table>\n",
       "<table class=\"simpletable\">\n",
       "<tr>\n",
       "                     <td></td>                       <th>coef</th>     <th>std err</th>      <th>t</th>      <th>P>|t|</th>  <th>[0.025</th>    <th>0.975]</th>  \n",
       "</tr>\n",
       "<tr>\n",
       "  <th>Intercept</th>                              <td>   34.3644</td> <td>    0.249</td> <td>  138.129</td> <td> 0.000</td> <td>   33.869</td> <td>   34.860</td>\n",
       "</tr>\n",
       "<tr>\n",
       "  <th>Food_HotDog</th>                            <td>   17.2764</td> <td>    0.393</td> <td>   43.920</td> <td> 0.000</td> <td>   16.493</td> <td>   18.060</td>\n",
       "</tr>\n",
       "<tr>\n",
       "  <th>Condiment_ChocolateSauce</th>               <td>   18.4239</td> <td>    0.393</td> <td>   46.837</td> <td> 0.000</td> <td>   17.640</td> <td>   19.207</td>\n",
       "</tr>\n",
       "<tr>\n",
       "  <th>Food_HotDog:Condiment_ChocolateSauce</th>   <td>   -4.7480</td> <td>    0.622</td> <td>   -7.634</td> <td> 0.000</td> <td>   -5.987</td> <td>   -3.509</td>\n",
       "</tr>\n",
       "<tr>\n",
       "  <th>Food_IceCream</th>                          <td>   17.0880</td> <td>    0.393</td> <td>   43.441</td> <td> 0.000</td> <td>   16.305</td> <td>   17.871</td>\n",
       "</tr>\n",
       "<tr>\n",
       "  <th>Food_IceCream:Condiment_ChocolateSauce</th> <td>   23.1719</td> <td>    0.622</td> <td>   37.256</td> <td> 0.000</td> <td>   21.933</td> <td>   24.411</td>\n",
       "</tr>\n",
       "<tr>\n",
       "  <th>Condiment_Mustard</th>                      <td>   15.9405</td> <td>    0.393</td> <td>   40.524</td> <td> 0.000</td> <td>   15.157</td> <td>   16.724</td>\n",
       "</tr>\n",
       "<tr>\n",
       "  <th>Food_HotDog:Condiment_Mustard</th>          <td>   22.0244</td> <td>    0.622</td> <td>   35.411</td> <td> 0.000</td> <td>   20.786</td> <td>   23.263</td>\n",
       "</tr>\n",
       "<tr>\n",
       "  <th>Food_IceCream:Condiment_Mustard</th>        <td>   -6.0839</td> <td>    0.622</td> <td>   -9.782</td> <td> 0.000</td> <td>   -7.323</td> <td>   -4.845</td>\n",
       "</tr>\n",
       "</table>\n",
       "<table class=\"simpletable\">\n",
       "<tr>\n",
       "  <th>Omnibus:</th>       <td> 2.073</td> <th>  Durbin-Watson:     </th> <td>   1.985</td>\n",
       "</tr>\n",
       "<tr>\n",
       "  <th>Prob(Omnibus):</th> <td> 0.355</td> <th>  Jarque-Bera (JB):  </th> <td>   2.035</td>\n",
       "</tr>\n",
       "<tr>\n",
       "  <th>Skew:</th>          <td> 0.325</td> <th>  Prob(JB):          </th> <td>   0.362</td>\n",
       "</tr>\n",
       "<tr>\n",
       "  <th>Kurtosis:</th>      <td> 2.566</td> <th>  Cond. No.          </th> <td>5.57e+32</td>\n",
       "</tr>\n",
       "</table><br/><br/>Notes:<br/>[1] Standard Errors assume that the covariance matrix of the errors is correctly specified.<br/>[2] The smallest eigenvalue is 5.81e-64. This might indicate that there are<br/>strong multicollinearity problems or that the design matrix is singular."
      ],
      "text/plain": [
       "<class 'statsmodels.iolib.summary.Summary'>\n",
       "\"\"\"\n",
       "                            OLS Regression Results                            \n",
       "==============================================================================\n",
       "Dep. Variable:              Enjoyment   R-squared:                       0.893\n",
       "Model:                            OLS   Adj. R-squared:                  0.889\n",
       "Method:                 Least Squares   F-statistic:                     212.4\n",
       "Date:                Sun, 22 May 2022   Prob (F-statistic):           7.41e-37\n",
       "Time:                        11:48:08   Log-Likelihood:                -240.33\n",
       "No. Observations:                  80   AIC:                             488.7\n",
       "Df Residuals:                      76   BIC:                             498.2\n",
       "Df Model:                           3                                         \n",
       "Covariance Type:            nonrobust                                         \n",
       "==========================================================================================================\n",
       "                                             coef    std err          t      P>|t|      [0.025      0.975]\n",
       "----------------------------------------------------------------------------------------------------------\n",
       "Intercept                                 34.3644      0.249    138.129      0.000      33.869      34.860\n",
       "Food_HotDog                               17.2764      0.393     43.920      0.000      16.493      18.060\n",
       "Condiment_ChocolateSauce                  18.4239      0.393     46.837      0.000      17.640      19.207\n",
       "Food_HotDog:Condiment_ChocolateSauce      -4.7480      0.622     -7.634      0.000      -5.987      -3.509\n",
       "Food_IceCream                             17.0880      0.393     43.441      0.000      16.305      17.871\n",
       "Food_IceCream:Condiment_ChocolateSauce    23.1719      0.622     37.256      0.000      21.933      24.411\n",
       "Condiment_Mustard                         15.9405      0.393     40.524      0.000      15.157      16.724\n",
       "Food_HotDog:Condiment_Mustard             22.0244      0.622     35.411      0.000      20.786      23.263\n",
       "Food_IceCream:Condiment_Mustard           -6.0839      0.622     -9.782      0.000      -7.323      -4.845\n",
       "==============================================================================\n",
       "Omnibus:                        2.073   Durbin-Watson:                   1.985\n",
       "Prob(Omnibus):                  0.355   Jarque-Bera (JB):                2.035\n",
       "Skew:                           0.325   Prob(JB):                        0.362\n",
       "Kurtosis:                       2.566   Cond. No.                     5.57e+32\n",
       "==============================================================================\n",
       "\n",
       "Notes:\n",
       "[1] Standard Errors assume that the covariance matrix of the errors is correctly specified.\n",
       "[2] The smallest eigenvalue is 5.81e-64. This might indicate that there are\n",
       "strong multicollinearity problems or that the design matrix is singular.\n",
       "\"\"\""
      ]
     },
     "execution_count": 73,
     "metadata": {},
     "output_type": "execute_result"
    }
   ],
   "source": [
    "model.summary()"
   ]
  },
  {
   "cell_type": "code",
   "execution_count": 74,
   "id": "3c7c414c",
   "metadata": {},
   "outputs": [
    {
     "data": {
      "text/plain": [
       "4.879929667933398"
      ]
     },
     "execution_count": 74,
     "metadata": {},
     "output_type": "execute_result"
    }
   ],
   "source": [
    "X = new_df.drop(columns='Enjoyment')\n",
    "y = new_df.Enjoyment\n",
    "\n",
    "prediction = model.predict(X)\n",
    "rmse(y, prediction)"
   ]
  },
  {
   "cell_type": "markdown",
   "id": "caba997e",
   "metadata": {},
   "source": [
    "* we can see that coefficient indicate that, the main elements of food (Hot dog or Ice cream) actually do not have different influence on the enjoyment (17.27 and 17.08) - people don't necessarily prefer one over the other.\n",
    "\n",
    "* The main elements of condiment (Chocolate Sauce or Mustard) have a different influence on the enjoyment (18.4 and 15.9) - people prefer more Chocolate Sauce.\n",
    "\n",
    "* The interaction between food and topping is actually impactful, with Chocolate Sauce on Ice cream having the biggest positive impact (23.17), and mustard on ice cream having the biggest negative impact (-6.08).\n",
    "\n",
    "* The model Root Mean squared error: 4.88\n",
    "* Coefficient of determination: 89.3%"
   ]
  },
  {
   "cell_type": "code",
   "execution_count": null,
   "id": "d0190bbe",
   "metadata": {},
   "outputs": [],
   "source": []
  }
 ],
 "metadata": {
  "kernelspec": {
   "display_name": "Python 3 (ipykernel)",
   "language": "python",
   "name": "python3"
  },
  "language_info": {
   "codemirror_mode": {
    "name": "ipython",
    "version": 3
   },
   "file_extension": ".py",
   "mimetype": "text/x-python",
   "name": "python",
   "nbconvert_exporter": "python",
   "pygments_lexer": "ipython3",
   "version": "3.9.7"
  }
 },
 "nbformat": 4,
 "nbformat_minor": 5
}
