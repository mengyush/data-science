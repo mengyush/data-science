{
 "cells": [
  {
   "cell_type": "code",
   "execution_count": 1,
   "metadata": {},
   "outputs": [
    {
     "name": "stdout",
     "output_type": "stream",
     "text": [
      "   prenom                                   email date_naissance  \\\n",
      "0   Leila                       leila@example.com     23/01/1990   \n",
      "1  Samuel                  samuel_329@example.com     20/09/2001   \n",
      "2   Radia                choupipoune@supermail.eu  12 sept. 1984   \n",
      "3    Marc  marco23@example.com, mc23@supermail.eu     10/02/1978   \n",
      "4    Heri                 helloworld@supermail.eu     05/03/2008   \n",
      "5   Hanna                  hanna2019@supermail.eu     01/01/1970   \n",
      "6  samuël                  samuel_329@example.com            NaN   \n",
      "\n",
      "            pays taille  \n",
      "0         France  1.49m  \n",
      "1            NaN  1.67m  \n",
      "2  Côte d'ivoire  153cm  \n",
      "3         France  1.65m  \n",
      "4     Madagascar  1.34m  \n",
      "5             24  3.45m  \n",
      "6          Bénin  1.45m  \n"
     ]
    }
   ],
   "source": [
    "# import des librairies dont nous aurons besoin\n",
    "import pandas as pd\n",
    "import numpy as np\n",
    "import re\n",
    "\n",
    "# chargement et affichage des données\n",
    "data = pd.read_csv('personnes.csv')\n",
    "print(data)"
   ]
  },
  {
   "cell_type": "code",
   "execution_count": 2,
   "metadata": {},
   "outputs": [
    {
     "name": "stdout",
     "output_type": "stream",
     "text": [
      "prenom            0\n",
      "email             0\n",
      "date_naissance    1\n",
      "pays              1\n",
      "taille            0\n",
      "dtype: int64\n"
     ]
    }
   ],
   "source": [
    "print(data.isnull().sum())"
   ]
  },
  {
   "cell_type": "code",
   "execution_count": 3,
   "metadata": {},
   "outputs": [
    {
     "data": {
      "text/html": [
       "<div>\n",
       "<style scoped>\n",
       "    .dataframe tbody tr th:only-of-type {\n",
       "        vertical-align: middle;\n",
       "    }\n",
       "\n",
       "    .dataframe tbody tr th {\n",
       "        vertical-align: top;\n",
       "    }\n",
       "\n",
       "    .dataframe thead th {\n",
       "        text-align: right;\n",
       "    }\n",
       "</style>\n",
       "<table border=\"1\" class=\"dataframe\">\n",
       "  <thead>\n",
       "    <tr style=\"text-align: right;\">\n",
       "      <th></th>\n",
       "      <th>prenom</th>\n",
       "      <th>email</th>\n",
       "      <th>date_naissance</th>\n",
       "      <th>pays</th>\n",
       "      <th>taille</th>\n",
       "    </tr>\n",
       "  </thead>\n",
       "  <tbody>\n",
       "    <tr>\n",
       "      <td>1</td>\n",
       "      <td>Samuel</td>\n",
       "      <td>samuel_329@example.com</td>\n",
       "      <td>20/09/2001</td>\n",
       "      <td>NaN</td>\n",
       "      <td>1.67m</td>\n",
       "    </tr>\n",
       "    <tr>\n",
       "      <td>6</td>\n",
       "      <td>samuël</td>\n",
       "      <td>samuel_329@example.com</td>\n",
       "      <td>NaN</td>\n",
       "      <td>Bénin</td>\n",
       "      <td>1.45m</td>\n",
       "    </tr>\n",
       "  </tbody>\n",
       "</table>\n",
       "</div>"
      ],
      "text/plain": [
       "   prenom                   email date_naissance   pays taille\n",
       "1  Samuel  samuel_329@example.com     20/09/2001    NaN  1.67m\n",
       "6  samuël  samuel_329@example.com            NaN  Bénin  1.45m"
      ]
     },
     "execution_count": 3,
     "metadata": {},
     "output_type": "execute_result"
    }
   ],
   "source": [
    "data.loc[data['email'].duplicated(keep=False),:]"
   ]
  },
  {
   "cell_type": "code",
   "execution_count": 6,
   "metadata": {},
   "outputs": [
    {
     "name": "stdout",
     "output_type": "stream",
     "text": [
      "   prenom                                   email date_naissance  \\\n",
      "0   Leila                       leila@example.com     23/01/1990   \n",
      "1  Samuel                  samuel_329@example.com     20/09/2001   \n",
      "2   Radia                choupipoune@supermail.eu  12 sept. 1984   \n",
      "3    Marc  marco23@example.com, mc23@supermail.eu     10/02/1978   \n",
      "4    Heri                 helloworld@supermail.eu     05/03/2008   \n",
      "5   Hanna                  hanna2019@supermail.eu     01/01/1970   \n",
      "6  samuël                  samuel_329@example.com            NaN   \n",
      "\n",
      "            pays taille  \n",
      "0         France  1.49m  \n",
      "1            NaN  1.67m  \n",
      "2  Côte d'ivoire  153cm  \n",
      "3         France  1.65m  \n",
      "4     Madagascar  1.34m  \n",
      "5            NaN  3.45m  \n",
      "6          Bénin  1.45m  \n"
     ]
    }
   ],
   "source": [
    "VALID_COUNTRIES = ['France', 'Côte d\\'ivoire', 'Madagascar', 'Bénin', 'Allemagne'\n",
    "                  , 'USA']\n",
    "mask = ~data['pays'].isin(VALID_COUNTRIES)\n",
    "data.loc[mask, 'pays'] = np.NaN\n",
    "print(data)"
   ]
  },
  {
   "cell_type": "code",
   "execution_count": 8,
   "metadata": {},
   "outputs": [
    {
     "name": "stdout",
     "output_type": "stream",
     "text": [
      "   prenom                     email date_naissance           pays taille\n",
      "0   Leila         leila@example.com     23/01/1990         France  1.49m\n",
      "1  Samuel    samuel_329@example.com     20/09/2001            NaN  1.67m\n",
      "2   Radia  choupipoune@supermail.eu  12 sept. 1984  Côte d'ivoire  153cm\n",
      "3    Marc       marco23@example.com     10/02/1978         France  1.65m\n",
      "4    Heri   helloworld@supermail.eu     05/03/2008     Madagascar  1.34m\n",
      "5   Hanna    hanna2019@supermail.eu     01/01/1970            NaN  3.45m\n",
      "6  samuël    samuel_329@example.com            NaN          Bénin  1.45m\n"
     ]
    }
   ],
   "source": [
    "data['email'] = data['email'].str.split(',', n=1, expand=True)[0]\n",
    "print(data)"
   ]
  },
  {
   "cell_type": "code",
   "execution_count": 9,
   "metadata": {},
   "outputs": [
    {
     "name": "stdout",
     "output_type": "stream",
     "text": [
      "   prenom                     email date_naissance           pays  taille\n",
      "0   Leila         leila@example.com     23/01/1990         France    1.49\n",
      "1  Samuel    samuel_329@example.com     20/09/2001            NaN    1.67\n",
      "2   Radia  choupipoune@supermail.eu  12 sept. 1984  Côte d'ivoire     NaN\n",
      "3    Marc       marco23@example.com     10/02/1978         France    1.65\n",
      "4    Heri   helloworld@supermail.eu     05/03/2008     Madagascar    1.34\n",
      "5   Hanna    hanna2019@supermail.eu     01/01/1970            NaN    3.45\n",
      "6  samuël    samuel_329@example.com            NaN          Bénin    1.45\n"
     ]
    }
   ],
   "source": [
    "data['taille'] = data['taille'].str[:-1]\n",
    "data['taille'] = pd.to_numeric(data['taille'], errors='coerce')\n",
    "print(data)"
   ]
  },
  {
   "cell_type": "code",
   "execution_count": 11,
   "metadata": {},
   "outputs": [
    {
     "name": "stdout",
     "output_type": "stream",
     "text": [
      "   prenom                     email date_naissance           pays    taille\n",
      "0   Leila         leila@example.com     23/01/1990         France  1.490000\n",
      "1  Samuel    samuel_329@example.com     20/09/2001            NaN  1.670000\n",
      "2   Radia  choupipoune@supermail.eu  12 sept. 1984  Côte d'ivoire  1.841667\n",
      "3    Marc       marco23@example.com     10/02/1978         France  1.650000\n",
      "4    Heri   helloworld@supermail.eu     05/03/2008     Madagascar  1.340000\n",
      "5   Hanna    hanna2019@supermail.eu     01/01/1970            NaN  3.450000\n",
      "6  samuël    samuel_329@example.com            NaN          Bénin  1.450000\n"
     ]
    }
   ],
   "source": [
    "data.loc[data['taille'].isnull(), 'taille'] = data['taille'].mean()\n",
    "print(data)"
   ]
  },
  {
   "cell_type": "code",
   "execution_count": 12,
   "metadata": {},
   "outputs": [
    {
     "name": "stdout",
     "output_type": "stream",
     "text": [
      "   prenom                     email date_naissance           pays    taille\n",
      "0   Leila         leila@example.com     1990-01-23         France  1.490000\n",
      "1  Samuel    samuel_329@example.com     2001-09-20            NaN  1.670000\n",
      "2   Radia  choupipoune@supermail.eu            NaT  Côte d'ivoire  1.841667\n",
      "3    Marc       marco23@example.com     1978-02-10         France  1.650000\n",
      "4    Heri   helloworld@supermail.eu     2008-03-05     Madagascar  1.340000\n",
      "5   Hanna    hanna2019@supermail.eu     1970-01-01            NaN  3.450000\n",
      "6  samuël    samuel_329@example.com            NaT          Bénin  1.450000\n"
     ]
    }
   ],
   "source": [
    "data['date_naissance'] = pd.to_datetime(data['date_naissance'], \n",
    "                                           format='%d/%m/%Y', errors='coerce')\n",
    "print(data)"
   ]
  },
  {
   "cell_type": "code",
   "execution_count": 25,
   "metadata": {},
   "outputs": [
    {
     "name": "stdout",
     "output_type": "stream",
     "text": [
      "     Position Sexe     Temps  Dept  Temps_secondes   Age\n",
      "0           1    M  00:32:23    76          779543  40.0\n",
      "1           2    M  00:32:40    27          779560  34.0\n",
      "2           3    M  00:33:15    76          779595  44.0\n",
      "3           4    M  00:33:23    76          779603  46.0\n",
      "4           5    M  00:33:29    76          779609  26.0\n",
      "..        ...  ...       ...   ...             ...   ...\n",
      "335       336    F  01:08:34    27          781714  41.0\n",
      "336       337    F  01:08:36    27          781716  48.0\n",
      "337       338    M  01:09:31    27          781771  24.0\n",
      "338       339    F  01:09:31    27          781771  25.0\n",
      "339       340    F  01:10:31    76          781831  41.0\n",
      "\n",
      "[340 rows x 6 columns]\n"
     ]
    }
   ],
   "source": [
    "# chargement et affichage des données\n",
    "data = pd.read_csv('course+-+Quiz+P2.csv')\n",
    "print(data)"
   ]
  },
  {
   "cell_type": "code",
   "execution_count": 26,
   "metadata": {},
   "outputs": [
    {
     "data": {
      "text/plain": [
       "21     78\n",
       "35     78\n",
       "74     78\n",
       "255    78\n",
       "289    78\n",
       "Name: Dept, dtype: int64"
      ]
     },
     "execution_count": 26,
     "metadata": {},
     "output_type": "execute_result"
    }
   ],
   "source": [
    "mask = data['Dept'].isin([76,27,14])\n",
    "data.loc[~mask, 'Dept']"
   ]
  },
  {
   "cell_type": "code",
   "execution_count": 27,
   "metadata": {},
   "outputs": [
    {
     "name": "stdout",
     "output_type": "stream",
     "text": [
      "Position          0\n",
      "Sexe              2\n",
      "Temps             0\n",
      "Dept              0\n",
      "Temps_secondes    0\n",
      "Age               4\n",
      "dtype: int64\n"
     ]
    }
   ],
   "source": [
    "print(data.isnull().sum())"
   ]
  },
  {
   "cell_type": "code",
   "execution_count": 28,
   "metadata": {},
   "outputs": [
    {
     "name": "stdout",
     "output_type": "stream",
     "text": [
      "     Position Sexe     Temps  Dept  Temps_secondes   Age\n",
      "0           1    M  00:32:23    76          779543  40.0\n",
      "1           2    M  00:32:40    27          779560  34.0\n",
      "2           3    M  00:33:15    76          779595  44.0\n",
      "3           4    M  00:33:23    76          779603  46.0\n",
      "4           5    M  00:33:29    76          779609  26.0\n",
      "..        ...  ...       ...   ...             ...   ...\n",
      "335       336    F  01:08:34    27          781714  41.0\n",
      "336       337    F  01:08:36    27          781716  48.0\n",
      "337       338    M  01:09:31    27          781771  24.0\n",
      "338       339    F  01:09:31    27          781771  25.0\n",
      "339       340    F  01:10:31    76          781831  41.0\n",
      "\n",
      "[340 rows x 6 columns]\n"
     ]
    }
   ],
   "source": [
    "data['Temps'] = pd.to_datetime(data['Temps'], \n",
    "                                           format='%H:%M:%S', errors='coerce').dt.time\n",
    "print(data)"
   ]
  },
  {
   "cell_type": "code",
   "execution_count": 30,
   "metadata": {},
   "outputs": [
    {
     "data": {
      "text/html": [
       "<div>\n",
       "<style scoped>\n",
       "    .dataframe tbody tr th:only-of-type {\n",
       "        vertical-align: middle;\n",
       "    }\n",
       "\n",
       "    .dataframe tbody tr th {\n",
       "        vertical-align: top;\n",
       "    }\n",
       "\n",
       "    .dataframe thead th {\n",
       "        text-align: right;\n",
       "    }\n",
       "</style>\n",
       "<table border=\"1\" class=\"dataframe\">\n",
       "  <thead>\n",
       "    <tr style=\"text-align: right;\">\n",
       "      <th></th>\n",
       "      <th>Position</th>\n",
       "      <th>Sexe</th>\n",
       "      <th>Temps</th>\n",
       "      <th>Dept</th>\n",
       "      <th>Temps_secondes</th>\n",
       "      <th>Age</th>\n",
       "    </tr>\n",
       "  </thead>\n",
       "  <tbody>\n",
       "    <tr>\n",
       "      <td>250</td>\n",
       "      <td>251</td>\n",
       "      <td>M</td>\n",
       "      <td>NaT</td>\n",
       "      <td>27</td>\n",
       "      <td>780887</td>\n",
       "      <td>42.0</td>\n",
       "    </tr>\n",
       "  </tbody>\n",
       "</table>\n",
       "</div>"
      ],
      "text/plain": [
       "     Position Sexe Temps  Dept  Temps_secondes   Age\n",
       "250       251    M   NaT    27          780887  42.0"
      ]
     },
     "execution_count": 30,
     "metadata": {},
     "output_type": "execute_result"
    }
   ],
   "source": [
    "data.loc[data['Temps'].isnull(),:]"
   ]
  },
  {
   "cell_type": "code",
   "execution_count": 33,
   "metadata": {},
   "outputs": [
    {
     "data": {
      "text/html": [
       "<div>\n",
       "<style scoped>\n",
       "    .dataframe tbody tr th:only-of-type {\n",
       "        vertical-align: middle;\n",
       "    }\n",
       "\n",
       "    .dataframe tbody tr th {\n",
       "        vertical-align: top;\n",
       "    }\n",
       "\n",
       "    .dataframe thead th {\n",
       "        text-align: right;\n",
       "    }\n",
       "</style>\n",
       "<table border=\"1\" class=\"dataframe\">\n",
       "  <thead>\n",
       "    <tr style=\"text-align: right;\">\n",
       "      <th></th>\n",
       "      <th>Position</th>\n",
       "      <th>Age</th>\n",
       "      <th>Temps_secondes</th>\n",
       "    </tr>\n",
       "  </thead>\n",
       "  <tbody>\n",
       "    <tr>\n",
       "      <td>count</td>\n",
       "      <td>340.000000</td>\n",
       "      <td>336.000000</td>\n",
       "      <td>340.000000</td>\n",
       "    </tr>\n",
       "    <tr>\n",
       "      <td>mean</td>\n",
       "      <td>177.061765</td>\n",
       "      <td>42.145833</td>\n",
       "      <td>780553.123529</td>\n",
       "    </tr>\n",
       "    <tr>\n",
       "      <td>std</td>\n",
       "      <td>166.584054</td>\n",
       "      <td>13.963690</td>\n",
       "      <td>514.526264</td>\n",
       "    </tr>\n",
       "    <tr>\n",
       "      <td>min</td>\n",
       "      <td>-100.000000</td>\n",
       "      <td>18.000000</td>\n",
       "      <td>779543.000000</td>\n",
       "    </tr>\n",
       "    <tr>\n",
       "      <td>25%</td>\n",
       "      <td>85.750000</td>\n",
       "      <td>34.000000</td>\n",
       "      <td>780200.500000</td>\n",
       "    </tr>\n",
       "    <tr>\n",
       "      <td>50%</td>\n",
       "      <td>170.500000</td>\n",
       "      <td>41.500000</td>\n",
       "      <td>780536.500000</td>\n",
       "    </tr>\n",
       "    <tr>\n",
       "      <td>75%</td>\n",
       "      <td>255.250000</td>\n",
       "      <td>49.250000</td>\n",
       "      <td>780906.500000</td>\n",
       "    </tr>\n",
       "    <tr>\n",
       "      <td>max</td>\n",
       "      <td>2640.000000</td>\n",
       "      <td>174.000000</td>\n",
       "      <td>781831.000000</td>\n",
       "    </tr>\n",
       "  </tbody>\n",
       "</table>\n",
       "</div>"
      ],
      "text/plain": [
       "          Position         Age  Temps_secondes\n",
       "count   340.000000  336.000000      340.000000\n",
       "mean    177.061765   42.145833   780553.123529\n",
       "std     166.584054   13.963690      514.526264\n",
       "min    -100.000000   18.000000   779543.000000\n",
       "25%      85.750000   34.000000   780200.500000\n",
       "50%     170.500000   41.500000   780536.500000\n",
       "75%     255.250000   49.250000   780906.500000\n",
       "max    2640.000000  174.000000   781831.000000"
      ]
     },
     "execution_count": 33,
     "metadata": {},
     "output_type": "execute_result"
    }
   ],
   "source": [
    "data[['Position', 'Age', 'Temps_secondes']].describe()"
   ]
  },
  {
   "cell_type": "code",
   "execution_count": 42,
   "metadata": {},
   "outputs": [
    {
     "data": {
      "text/html": [
       "<div>\n",
       "<style scoped>\n",
       "    .dataframe tbody tr th:only-of-type {\n",
       "        vertical-align: middle;\n",
       "    }\n",
       "\n",
       "    .dataframe tbody tr th {\n",
       "        vertical-align: top;\n",
       "    }\n",
       "\n",
       "    .dataframe thead th {\n",
       "        text-align: right;\n",
       "    }\n",
       "</style>\n",
       "<table border=\"1\" class=\"dataframe\">\n",
       "  <thead>\n",
       "    <tr style=\"text-align: right;\">\n",
       "      <th></th>\n",
       "      <th>Position</th>\n",
       "      <th>Sexe</th>\n",
       "      <th>Temps</th>\n",
       "      <th>Dept</th>\n",
       "      <th>Temps_secondes</th>\n",
       "      <th>Age</th>\n",
       "    </tr>\n",
       "  </thead>\n",
       "  <tbody>\n",
       "  </tbody>\n",
       "</table>\n",
       "</div>"
      ],
      "text/plain": [
       "Empty DataFrame\n",
       "Columns: [Position, Sexe, Temps, Dept, Temps_secondes, Age]\n",
       "Index: []"
      ]
     },
     "execution_count": 42,
     "metadata": {},
     "output_type": "execute_result"
    }
   ],
   "source": [
    "data.loc[data[['Position', 'Temps']].duplicated(keep=False),:]"
   ]
  },
  {
   "cell_type": "code",
   "execution_count": 41,
   "metadata": {},
   "outputs": [
    {
     "data": {
      "text/plain": [
       "93       O\n",
       "109    NaN\n",
       "167      O\n",
       "291    NaN\n",
       "Name: Sexe, dtype: object"
      ]
     },
     "execution_count": 41,
     "metadata": {},
     "output_type": "execute_result"
    }
   ],
   "source": [
    "data.loc[~data['Sexe'].isin(['F','M']),'Sexe']"
   ]
  },
  {
   "cell_type": "code",
   "execution_count": 44,
   "metadata": {},
   "outputs": [
    {
     "data": {
      "text/plain": [
       "array(['M', 'F', 'O', nan], dtype=object)"
      ]
     },
     "execution_count": 44,
     "metadata": {},
     "output_type": "execute_result"
    }
   ],
   "source": [
    "data['Sexe'].unique()"
   ]
  },
  {
   "cell_type": "code",
   "execution_count": 45,
   "metadata": {},
   "outputs": [
    {
     "name": "stdout",
     "output_type": "stream",
     "text": [
      "     Position Sexe     Temps  Dept  Temps_secondes  Age\n",
      "0           1    M  00:32:23    76         1643543   40\n",
      "1           2    M  00:32:40    27         1643560   34\n",
      "2           3    M  00:33:15    76         1643595   44\n",
      "3           4    M  00:33:23    76         1643603   46\n",
      "4           5    M  00:33:29    76         1643609   26\n",
      "..        ...  ...       ...   ...             ...  ...\n",
      "335       336    F  01:08:34    27         1645714   41\n",
      "336       337    F  01:08:36    27         1645716   48\n",
      "337       338    M  01:09:31    27         1645771   24\n",
      "338       339    F  01:09:31    27         1645771   25\n",
      "339       340    F  01:10:31    76         1645831   41\n",
      "\n",
      "[340 rows x 6 columns]\n"
     ]
    }
   ],
   "source": [
    "# chargement et affichage des données\n",
    "data = pd.read_csv('course+-+Quiz+P4+(1).csv')\n",
    "print(data)"
   ]
  },
  {
   "cell_type": "code",
   "execution_count": 48,
   "metadata": {},
   "outputs": [
    {
     "data": {
      "text/html": [
       "<div>\n",
       "<style scoped>\n",
       "    .dataframe tbody tr th:only-of-type {\n",
       "        vertical-align: middle;\n",
       "    }\n",
       "\n",
       "    .dataframe tbody tr th {\n",
       "        vertical-align: top;\n",
       "    }\n",
       "\n",
       "    .dataframe thead th {\n",
       "        text-align: right;\n",
       "    }\n",
       "</style>\n",
       "<table border=\"1\" class=\"dataframe\">\n",
       "  <thead>\n",
       "    <tr style=\"text-align: right;\">\n",
       "      <th></th>\n",
       "      <th>Position</th>\n",
       "      <th>Dept</th>\n",
       "      <th>Temps_secondes</th>\n",
       "      <th>Age</th>\n",
       "    </tr>\n",
       "  </thead>\n",
       "  <tbody>\n",
       "    <tr>\n",
       "      <td>count</td>\n",
       "      <td>340.000000</td>\n",
       "      <td>340.000000</td>\n",
       "      <td>3.400000e+02</td>\n",
       "      <td>340.000000</td>\n",
       "    </tr>\n",
       "    <tr>\n",
       "      <td>mean</td>\n",
       "      <td>170.500000</td>\n",
       "      <td>56.991176</td>\n",
       "      <td>1.644553e+06</td>\n",
       "      <td>41.950000</td>\n",
       "    </tr>\n",
       "    <tr>\n",
       "      <td>std</td>\n",
       "      <td>98.293777</td>\n",
       "      <td>25.059279</td>\n",
       "      <td>5.145263e+02</td>\n",
       "      <td>12.092094</td>\n",
       "    </tr>\n",
       "    <tr>\n",
       "      <td>min</td>\n",
       "      <td>1.000000</td>\n",
       "      <td>14.000000</td>\n",
       "      <td>1.643543e+06</td>\n",
       "      <td>18.000000</td>\n",
       "    </tr>\n",
       "    <tr>\n",
       "      <td>25%</td>\n",
       "      <td>85.750000</td>\n",
       "      <td>27.000000</td>\n",
       "      <td>1.644200e+06</td>\n",
       "      <td>34.000000</td>\n",
       "    </tr>\n",
       "    <tr>\n",
       "      <td>50%</td>\n",
       "      <td>170.500000</td>\n",
       "      <td>76.000000</td>\n",
       "      <td>1.644536e+06</td>\n",
       "      <td>42.000000</td>\n",
       "    </tr>\n",
       "    <tr>\n",
       "      <td>75%</td>\n",
       "      <td>255.250000</td>\n",
       "      <td>76.000000</td>\n",
       "      <td>1.644906e+06</td>\n",
       "      <td>50.000000</td>\n",
       "    </tr>\n",
       "    <tr>\n",
       "      <td>max</td>\n",
       "      <td>340.000000</td>\n",
       "      <td>78.000000</td>\n",
       "      <td>1.645831e+06</td>\n",
       "      <td>74.000000</td>\n",
       "    </tr>\n",
       "  </tbody>\n",
       "</table>\n",
       "</div>"
      ],
      "text/plain": [
       "         Position        Dept  Temps_secondes         Age\n",
       "count  340.000000  340.000000    3.400000e+02  340.000000\n",
       "mean   170.500000   56.991176    1.644553e+06   41.950000\n",
       "std     98.293777   25.059279    5.145263e+02   12.092094\n",
       "min      1.000000   14.000000    1.643543e+06   18.000000\n",
       "25%     85.750000   27.000000    1.644200e+06   34.000000\n",
       "50%    170.500000   76.000000    1.644536e+06   42.000000\n",
       "75%    255.250000   76.000000    1.644906e+06   50.000000\n",
       "max    340.000000   78.000000    1.645831e+06   74.000000"
      ]
     },
     "execution_count": 48,
     "metadata": {},
     "output_type": "execute_result"
    }
   ],
   "source": [
    "data.describe()"
   ]
  },
  {
   "cell_type": "code",
   "execution_count": 49,
   "metadata": {},
   "outputs": [
    {
     "data": {
      "image/png": "[encoded data removed]",
      "text/plain": [
       "<Figure size 432x288 with 1 Axes>"
      ]
     },
     "metadata": {
      "needs_background": "light"
     },
     "output_type": "display_data"
    }
   ],
   "source": [
    "import matplotlib.pyplot as plt\n",
    "# Histogramme plus beau\n",
    "data[\"Age\"].hist(density=True,bins=6)\n",
    "plt.show()"
   ]
  },
  {
   "cell_type": "code",
   "execution_count": 68,
   "metadata": {},
   "outputs": [
    {
     "data": {
      "image/png": "[encoded data removed]",
      "text/plain": [
       "<Figure size 432x288 with 1 Axes>"
      ]
     },
     "metadata": {
      "needs_background": "light"
     },
     "output_type": "display_data"
    }
   ],
   "source": [
    "data['six_Age'] = [int((age-18)/10)+1 for age in data[\"Age\"]]\n",
    "# Diagramme en bâtons\n",
    "data[\"six_Age\"].value_counts(normalize=True).plot(kind='bar',width=0.1)\n",
    "plt.show()"
   ]
  },
  {
   "cell_type": "code",
   "execution_count": 79,
   "metadata": {},
   "outputs": [
    {
     "data": {
      "image/png": "[encoded data removed]",
      "text/plain": [
       "<Figure size 432x288 with 1 Axes>"
      ]
     },
     "metadata": {
      "needs_background": "light"
     },
     "output_type": "display_data"
    }
   ],
   "source": [
    "import seaborn as sns\n",
    "import matplotlib.pyplot as plt\n",
    "\n",
    "data['cat'] = 0\n",
    "data.loc[data['Age'] <= 30, 'cat'] = '- 30'\n",
    "data.loc[(data['Age'] > 30) & (data['Age'] <= 40), 'cat'] = '30-40'\n",
    "data.loc[(data['Age'] > 40) & (data['Age'] <= 50), 'cat'] = '40-50'\n",
    "data.loc[(data['Age'] > 50) & (data['Age'] <= 60), 'cat'] = '50-60'\n",
    "data.loc[(data['Age'] > 60), 'cat'] = '60+'\n",
    "\n",
    "sns.boxplot(y='Position', x='cat', data=data, orient='v')\n",
    "plt.show()"
   ]
  },
  {
   "cell_type": "code",
   "execution_count": 69,
   "metadata": {},
   "outputs": [
    {
     "data": {
      "image/png": "[encoded data removed]",
      "text/plain": [
       "<Figure size 432x288 with 1 Axes>"
      ]
     },
     "metadata": {
      "needs_background": "light"
     },
     "output_type": "display_data"
    }
   ],
   "source": [
    "X = \"six_Age\"\n",
    "Y = \"Position\"\n",
    "\n",
    "modalites = data.sort_values([X]).six_Age.unique()\n",
    "groupes = []\n",
    "for m in modalites:\n",
    "    groupes.append(data[data[X]==m][Y])\n",
    "\n",
    "# Propriétés graphiques (pas très importantes)    \n",
    "medianprops = {'color':\"black\"}\n",
    "meanprops = {'marker':'o', 'markeredgecolor':'black',\n",
    "            'markerfacecolor':'firebrick'}\n",
    "    \n",
    "plt.boxplot(groupes, labels=modalites, showfliers=False, medianprops=medianprops, \n",
    "            vert=False, patch_artist=True, showmeans=True, meanprops=meanprops)\n",
    "plt.show()"
   ]
  },
  {
   "cell_type": "code",
   "execution_count": 74,
   "metadata": {},
   "outputs": [
    {
     "name": "stdout",
     "output_type": "stream",
     "text": [
      "0.10287675361226731\n"
     ]
    },
    {
     "data": {
      "text/html": [
       "<div>\n",
       "<style scoped>\n",
       "    .dataframe tbody tr th:only-of-type {\n",
       "        vertical-align: middle;\n",
       "    }\n",
       "\n",
       "    .dataframe tbody tr th {\n",
       "        vertical-align: top;\n",
       "    }\n",
       "\n",
       "    .dataframe thead th {\n",
       "        text-align: right;\n",
       "    }\n",
       "</style>\n",
       "<table border=\"1\" class=\"dataframe\">\n",
       "  <thead>\n",
       "    <tr style=\"text-align: right;\">\n",
       "      <th></th>\n",
       "      <th>Position</th>\n",
       "      <th>Dept</th>\n",
       "      <th>Temps_secondes</th>\n",
       "      <th>Age</th>\n",
       "      <th>six_Age</th>\n",
       "    </tr>\n",
       "  </thead>\n",
       "  <tbody>\n",
       "    <tr>\n",
       "      <td>Position</td>\n",
       "      <td>1.000000</td>\n",
       "      <td>-0.175935</td>\n",
       "      <td>0.987919</td>\n",
       "      <td>0.106065</td>\n",
       "      <td>0.102877</td>\n",
       "    </tr>\n",
       "    <tr>\n",
       "      <td>Dept</td>\n",
       "      <td>-0.175935</td>\n",
       "      <td>1.000000</td>\n",
       "      <td>-0.182632</td>\n",
       "      <td>-0.034482</td>\n",
       "      <td>-0.029165</td>\n",
       "    </tr>\n",
       "    <tr>\n",
       "      <td>Temps_secondes</td>\n",
       "      <td>0.987919</td>\n",
       "      <td>-0.182632</td>\n",
       "      <td>1.000000</td>\n",
       "      <td>0.094927</td>\n",
       "      <td>0.094198</td>\n",
       "    </tr>\n",
       "    <tr>\n",
       "      <td>Age</td>\n",
       "      <td>0.106065</td>\n",
       "      <td>-0.034482</td>\n",
       "      <td>0.094927</td>\n",
       "      <td>1.000000</td>\n",
       "      <td>0.973305</td>\n",
       "    </tr>\n",
       "    <tr>\n",
       "      <td>six_Age</td>\n",
       "      <td>0.102877</td>\n",
       "      <td>-0.029165</td>\n",
       "      <td>0.094198</td>\n",
       "      <td>0.973305</td>\n",
       "      <td>1.000000</td>\n",
       "    </tr>\n",
       "  </tbody>\n",
       "</table>\n",
       "</div>"
      ],
      "text/plain": [
       "                Position      Dept  Temps_secondes       Age   six_Age\n",
       "Position        1.000000 -0.175935        0.987919  0.106065  0.102877\n",
       "Dept           -0.175935  1.000000       -0.182632 -0.034482 -0.029165\n",
       "Temps_secondes  0.987919 -0.182632        1.000000  0.094927  0.094198\n",
       "Age             0.106065 -0.034482        0.094927  1.000000  0.973305\n",
       "six_Age         0.102877 -0.029165        0.094198  0.973305  1.000000"
      ]
     },
     "execution_count": 74,
     "metadata": {},
     "output_type": "execute_result"
    }
   ],
   "source": [
    "import scipy.stats as st\n",
    "print(st.pearsonr(data[X], data[Y])[0])\n",
    "data.corr()"
   ]
  },
  {
   "cell_type": "code",
   "execution_count": 77,
   "metadata": {},
   "outputs": [
    {
     "data": {
      "text/html": [
       "<table class=\"simpletable\">\n",
       "<caption>OLS Regression Results</caption>\n",
       "<tr>\n",
       "  <th>Dep. Variable:</th>        <td>Position</td>     <th>  R-squared:         </th> <td>   0.011</td>\n",
       "</tr>\n",
       "<tr>\n",
       "  <th>Model:</th>                   <td>OLS</td>       <th>  Adj. R-squared:    </th> <td>   0.008</td>\n",
       "</tr>\n",
       "<tr>\n",
       "  <th>Method:</th>             <td>Least Squares</td>  <th>  F-statistic:       </th> <td>   3.846</td>\n",
       "</tr>\n",
       "<tr>\n",
       "  <th>Date:</th>             <td>Tue, 22 Feb 2022</td> <th>  Prob (F-statistic):</th>  <td>0.0507</td> \n",
       "</tr>\n",
       "<tr>\n",
       "  <th>Time:</th>                 <td>14:35:00</td>     <th>  Log-Likelihood:    </th> <td> -2039.9</td>\n",
       "</tr>\n",
       "<tr>\n",
       "  <th>No. Observations:</th>      <td>   340</td>      <th>  AIC:               </th> <td>   4084.</td>\n",
       "</tr>\n",
       "<tr>\n",
       "  <th>Df Residuals:</th>          <td>   338</td>      <th>  BIC:               </th> <td>   4092.</td>\n",
       "</tr>\n",
       "<tr>\n",
       "  <th>Df Model:</th>              <td>     1</td>      <th>                     </th>     <td> </td>   \n",
       "</tr>\n",
       "<tr>\n",
       "  <th>Covariance Type:</th>      <td>nonrobust</td>    <th>                     </th>     <td> </td>   \n",
       "</tr>\n",
       "</table>\n",
       "<table class=\"simpletable\">\n",
       "<tr>\n",
       "      <td></td>         <th>coef</th>     <th>std err</th>      <th>t</th>      <th>P>|t|</th>  <th>[0.025</th>    <th>0.975]</th>  \n",
       "</tr>\n",
       "<tr>\n",
       "  <th>Intercept</th> <td>  134.3317</td> <td>   19.192</td> <td>    6.999</td> <td> 0.000</td> <td>   96.581</td> <td>  172.083</td>\n",
       "</tr>\n",
       "<tr>\n",
       "  <th>Age</th>       <td>    0.8622</td> <td>    0.440</td> <td>    1.961</td> <td> 0.051</td> <td>   -0.003</td> <td>    1.727</td>\n",
       "</tr>\n",
       "</table>\n",
       "<table class=\"simpletable\">\n",
       "<tr>\n",
       "  <th>Omnibus:</th>       <td>168.219</td> <th>  Durbin-Watson:     </th> <td>   0.022</td>\n",
       "</tr>\n",
       "<tr>\n",
       "  <th>Prob(Omnibus):</th> <td> 0.000</td>  <th>  Jarque-Bera (JB):  </th> <td>  19.775</td>\n",
       "</tr>\n",
       "<tr>\n",
       "  <th>Skew:</th>          <td> 0.034</td>  <th>  Prob(JB):          </th> <td>5.08e-05</td>\n",
       "</tr>\n",
       "<tr>\n",
       "  <th>Kurtosis:</th>      <td> 1.821</td>  <th>  Cond. No.          </th> <td>    158.</td>\n",
       "</tr>\n",
       "</table><br/><br/>Warnings:<br/>[1] Standard Errors assume that the covariance matrix of the errors is correctly specified."
      ],
      "text/plain": [
       "<class 'statsmodels.iolib.summary.Summary'>\n",
       "\"\"\"\n",
       "                            OLS Regression Results                            \n",
       "==============================================================================\n",
       "Dep. Variable:               Position   R-squared:                       0.011\n",
       "Model:                            OLS   Adj. R-squared:                  0.008\n",
       "Method:                 Least Squares   F-statistic:                     3.846\n",
       "Date:                Tue, 22 Feb 2022   Prob (F-statistic):             0.0507\n",
       "Time:                        14:35:00   Log-Likelihood:                -2039.9\n",
       "No. Observations:                 340   AIC:                             4084.\n",
       "Df Residuals:                     338   BIC:                             4092.\n",
       "Df Model:                           1                                         \n",
       "Covariance Type:            nonrobust                                         \n",
       "==============================================================================\n",
       "                 coef    std err          t      P>|t|      [0.025      0.975]\n",
       "------------------------------------------------------------------------------\n",
       "Intercept    134.3317     19.192      6.999      0.000      96.581     172.083\n",
       "Age            0.8622      0.440      1.961      0.051      -0.003       1.727\n",
       "==============================================================================\n",
       "Omnibus:                      168.219   Durbin-Watson:                   0.022\n",
       "Prob(Omnibus):                  0.000   Jarque-Bera (JB):               19.775\n",
       "Skew:                           0.034   Prob(JB):                     5.08e-05\n",
       "Kurtosis:                       1.821   Cond. No.                         158.\n",
       "==============================================================================\n",
       "\n",
       "Warnings:\n",
       "[1] Standard Errors assume that the covariance matrix of the errors is correctly specified.\n",
       "\"\"\""
      ]
     },
     "execution_count": 77,
     "metadata": {},
     "output_type": "execute_result"
    }
   ],
   "source": [
    "import statsmodels.formula.api as smf\n",
    "result = smf.ols('Position~Age', data).fit()\n",
    "result.summary()"
   ]
  },
  {
   "cell_type": "code",
   "execution_count": 78,
   "metadata": {},
   "outputs": [
    {
     "data": {
      "text/plain": [
       "0.20400517398334017"
      ]
     },
     "execution_count": 78,
     "metadata": {},
     "output_type": "execute_result"
    }
   ],
   "source": [
    "X = \"Sexe\" # qualitative\n",
    "Y = \"Temps_secondes\" # quantitative\n",
    "\n",
    "def eta_squared(x,y):\n",
    "    moyenne_y = y.mean()\n",
    "    classes = []\n",
    "    for classe in x.unique():\n",
    "        yi_classe = y[x==classe]\n",
    "        classes.append({'ni': len(yi_classe),\n",
    "                        'moyenne_classe': yi_classe.mean()})\n",
    "    SCT = sum([(yj-moyenne_y)**2 for yj in y])\n",
    "    SCE = sum([c['ni']*(c['moyenne_classe']-moyenne_y)**2 for c in classes])\n",
    "    return SCE/SCT\n",
    "    \n",
    "eta_squared(data[X],data[Y])"
   ]
  },
  {
   "cell_type": "code",
   "execution_count": null,
   "metadata": {},
   "outputs": [],
   "source": []
  }
 ],
 "metadata": {
  "kernelspec": {
   "display_name": "Python 3",
   "language": "python",
   "name": "python3"
  },
  "language_info": {
   "codemirror_mode": {
    "name": "ipython",
    "version": 3
   },
   "file_extension": ".py",
   "mimetype": "text/x-python",
   "name": "python",
   "nbconvert_exporter": "python",
   "pygments_lexer": "ipython3",
   "version": "3.7.4"
  }
 },
 "nbformat": 4,
 "nbformat_minor": 2
}
