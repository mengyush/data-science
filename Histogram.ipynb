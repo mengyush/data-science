{
  "nbformat": 4,
  "nbformat_minor": 0,
  "metadata": {
    "colab": {
      "name": "Histogram.ipynb",
      "provenance": [],
      "collapsed_sections": [],
      "authorship_tag": "ABX9TyMBJW1v9xYPcrX1HasOohnz",
      "include_colab_link": true
    },
    "kernelspec": {
      "name": "python3",
      "display_name": "Python 3"
    },
    "language_info": {
      "name": "python"
    }
  },
  "cells": [
    {
      "cell_type": "markdown",
      "metadata": {
        "id": "view-in-github",
        "colab_type": "text"
      },
      "source": [
        "<a href=\"https://colab.research.google.com/github/mengyush/data-science/blob/main/Histogram.ipynb\" target=\"_parent\"><img src=\"https://colab.research.google.com/assets/colab-badge.svg\" alt=\"Open In Colab\"/></a>"
      ]
    },
    {
      "cell_type": "code",
      "execution_count": 1,
      "metadata": {
        "id": "PCWeTonApcGR"
      },
      "outputs": [],
      "source": [
        "import matplotlib.pyplot as plt\n",
        "import matplotlib\n",
        "matplotlib.rcParams['figure.figsize'] = (12,8)"
      ]
    },
    {
      "cell_type": "markdown",
      "source": [
        "a sample data of blood sugar level of different patients, we will try to plot number of patients by blood range and try to figure out how many patients are normal, pre-diabetic and diabetic"
      ],
      "metadata": {
        "id": "TklvsJj3pyzg"
      }
    },
    {
      "cell_type": "code",
      "source": [
        "blood_sugar = [113, 85, 90, 150, 149, 88, 93, 115, 135, 80, 77, 82, 129]\n",
        "plt.hist(blood_sugar, rwidth=0.8); # by default number of bins is set to 10"
      ],
      "metadata": {
        "colab": {
          "base_uri": "https://localhost:8080/",
          "height": 265
        },
        "id": "O1Sh9pXWpyQC",
        "outputId": "0067e604-e6db-4b86-e1bc-622ac73716e3"
      },
      "execution_count": 4,
      "outputs": [
        {
          "output_type": "display_data",
          "data": {
            "text/plain": [
              "<Figure size 432x288 with 1 Axes>"
            ],
            "image/png": "[encoded data removed]"
          },
          "metadata": {
            "needs_background": "light"
          }
        }
      ]
    },
    {
      "cell_type": "markdown",
      "source": [
        "### bins parameter"
      ],
      "metadata": {
        "id": "SjdJN60aqilo"
      }
    },
    {
      "cell_type": "code",
      "source": [
        "plt.hist(blood_sugar, rwidth=0.5, bins=4);"
      ],
      "metadata": {
        "colab": {
          "base_uri": "https://localhost:8080/",
          "height": 265
        },
        "id": "_t3p_G4Kp65P",
        "outputId": "601328a7-dde5-449f-9a17-54eda5b24125"
      },
      "execution_count": 6,
      "outputs": [
        {
          "output_type": "display_data",
          "data": {
            "text/plain": [
              "<Figure size 432x288 with 1 Axes>"
            ],
            "image/png": "[encoded data removed]"
          },
          "metadata": {
            "needs_background": "light"
          }
        }
      ]
    },
    {
      "cell_type": "markdown",
      "source": [
        "*   80-100: Normal\n",
        "*   100-125: Pre-diabetic\n",
        "*   125-150: Diabetic\n",
        "\n",
        "\n"
      ],
      "metadata": {
        "id": "oesWM8dfqpB0"
      }
    },
    {
      "cell_type": "code",
      "source": [
        "plt.xlabel(\"Sugar Level\")\n",
        "plt.ylabel(\"Number Of Patients\")\n",
        "plt.title(\"Blood Sugar Chart\")\n",
        "\n",
        "plt.hist(blood_sugar, bins=[80,100,125,150], rwidth=0.95, color='g');"
      ],
      "metadata": {
        "colab": {
          "base_uri": "https://localhost:8080/",
          "height": 295
        },
        "id": "dgKAdSurqfog",
        "outputId": "1e5fcc2c-b0ee-4cce-e48f-f5a4e5e963d2"
      },
      "execution_count": 7,
      "outputs": [
        {
          "output_type": "display_data",
          "data": {
            "text/plain": [
              "<Figure size 432x288 with 1 Axes>"
            ],
            "image/png": "[encoded data removed]"
          },
          "metadata": {
            "needs_background": "light"
          }
        }
      ]
    },
    {
      "cell_type": "markdown",
      "source": [
        "### horizontal orientation"
      ],
      "metadata": {
        "id": "p5OyuJFUrzxi"
      }
    },
    {
      "cell_type": "code",
      "source": [
        "plt.xlabel(\"Number Of Patients\")\n",
        "plt.ylabel(\"Sugar Level\")\n",
        "plt.title(\"Blood Sugar Chart\")\n",
        "\n",
        "plt.hist(blood_sugar, bins=[80,100,125,150], rwidth=0.95, orientation='horizontal');"
      ],
      "metadata": {
        "colab": {
          "base_uri": "https://localhost:8080/",
          "height": 295
        },
        "id": "8rbjo2jar1g-",
        "outputId": "d2570501-11e9-4d5c-c960-b7899e854725"
      },
      "execution_count": 13,
      "outputs": [
        {
          "output_type": "display_data",
          "data": {
            "text/plain": [
              "<Figure size 432x288 with 1 Axes>"
            ],
            "image/png": "[encoded data removed]"
          },
          "metadata": {
            "needs_background": "light"
          }
        }
      ]
    },
    {
      "cell_type": "markdown",
      "source": [
        "### histtype=step"
      ],
      "metadata": {
        "id": "j32iHho4raJ0"
      }
    },
    {
      "cell_type": "code",
      "source": [
        "plt.xlabel(\"Sugar Level\")\n",
        "plt.ylabel(\"Number Of Patients\")\n",
        "plt.title(\"Blood Sugar Chart\")\n",
        "\n",
        "plt.hist(blood_sugar, bins=[80,100,125,150], rwidth=0.95, histtype='step');"
      ],
      "metadata": {
        "colab": {
          "base_uri": "https://localhost:8080/",
          "height": 295
        },
        "id": "EqL96loIrb2o",
        "outputId": "89dc2e14-9275-496a-9eb8-c72f163a308c"
      },
      "execution_count": 12,
      "outputs": [
        {
          "output_type": "display_data",
          "data": {
            "text/plain": [
              "<Figure size 432x288 with 1 Axes>"
            ],
            "image/png": "[encoded data removed]"
          },
          "metadata": {
            "needs_background": "light"
          }
        }
      ]
    },
    {
      "cell_type": "markdown",
      "source": [
        "### Mutiple data samples in a histogram"
      ],
      "metadata": {
        "id": "MykAAVhBrGQR"
      }
    },
    {
      "cell_type": "code",
      "source": [
        "plt.xlabel(\"Sugar Level\")\n",
        "plt.ylabel(\"Number Of Patients\")\n",
        "plt.title(\"Blood Sugar Chart\")\n",
        "\n",
        "blood_sugar_men = [113, 85, 90, 150, 149, 88, 93, 115, 135, 80, 77, 82, 129]\n",
        "blood_sugar_women = [67, 98, 89, 120, 133, 150, 84, 69, 89, 79, 120, 112, 100]\n",
        "\n",
        "plt.hist([blood_sugar_men, blood_sugar_women], bins=[80,100,125,150], rwidth=0.95, color=['green','orange'], label=['men','women'])\n",
        "plt.legend();"
      ],
      "metadata": {
        "colab": {
          "base_uri": "https://localhost:8080/",
          "height": 295
        },
        "id": "LDDu9bvsrBOD",
        "outputId": "eefc590d-3378-46ce-d79b-f2a840670e17"
      },
      "execution_count": 11,
      "outputs": [
        {
          "output_type": "display_data",
          "data": {
            "text/plain": [
              "<Figure size 432x288 with 1 Axes>"
            ],
            "image/png": "[encoded data removed]"
          },
          "metadata": {
            "needs_background": "light"
          }
        }
      ]
    },
    {
      "cell_type": "code",
      "source": [
        ""
      ],
      "metadata": {
        "id": "k28p7FHqrK1D"
      },
      "execution_count": null,
      "outputs": []
    }
  ]
}